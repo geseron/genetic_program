{
 "cells": [
  {
   "cell_type": "markdown",
   "metadata": {},
   "source": [
    "# imports"
   ]
  },
  {
   "cell_type": "code",
   "execution_count": 1,
   "metadata": {},
   "outputs": [],
   "source": [
    "import numpy as np\n",
    "from individ import gp_individ\n",
    "import pandas as pd\n",
    "from population import gp_population\n",
    "import matplotlib.pyplot as plt\n",
    "from sklearn.metrics import accuracy_score\n",
    "import seaborn as sns\n",
    "import plotly.express as px"
   ]
  },
  {
   "cell_type": "markdown",
   "metadata": {},
   "source": [
    "# data_load"
   ]
  },
  {
   "cell_type": "code",
   "execution_count": 2,
   "metadata": {},
   "outputs": [],
   "source": [
    "data = pd.read_excel(\"Mine_Dataset.xls\", sheet_name='Normalized_Data')"
   ]
  },
  {
   "cell_type": "code",
   "execution_count": 3,
   "metadata": {},
   "outputs": [
    {
     "data": {
      "text/html": [
       "<div>\n",
       "<style scoped>\n",
       "    .dataframe tbody tr th:only-of-type {\n",
       "        vertical-align: middle;\n",
       "    }\n",
       "\n",
       "    .dataframe tbody tr th {\n",
       "        vertical-align: top;\n",
       "    }\n",
       "\n",
       "    .dataframe thead th {\n",
       "        text-align: right;\n",
       "    }\n",
       "</style>\n",
       "<table border=\"1\" class=\"dataframe\">\n",
       "  <thead>\n",
       "    <tr style=\"text-align: right;\">\n",
       "      <th></th>\n",
       "      <th>V</th>\n",
       "      <th>H</th>\n",
       "      <th>S</th>\n",
       "      <th>M</th>\n",
       "    </tr>\n",
       "  </thead>\n",
       "  <tbody>\n",
       "    <tr>\n",
       "      <th>0</th>\n",
       "      <td>0.338157</td>\n",
       "      <td>0.000000</td>\n",
       "      <td>0.0</td>\n",
       "      <td>1</td>\n",
       "    </tr>\n",
       "    <tr>\n",
       "      <th>1</th>\n",
       "      <td>0.320241</td>\n",
       "      <td>0.181818</td>\n",
       "      <td>0.0</td>\n",
       "      <td>1</td>\n",
       "    </tr>\n",
       "    <tr>\n",
       "      <th>2</th>\n",
       "      <td>0.287009</td>\n",
       "      <td>0.272727</td>\n",
       "      <td>0.0</td>\n",
       "      <td>1</td>\n",
       "    </tr>\n",
       "    <tr>\n",
       "      <th>3</th>\n",
       "      <td>0.256284</td>\n",
       "      <td>0.454545</td>\n",
       "      <td>0.0</td>\n",
       "      <td>1</td>\n",
       "    </tr>\n",
       "    <tr>\n",
       "      <th>4</th>\n",
       "      <td>0.262840</td>\n",
       "      <td>0.545455</td>\n",
       "      <td>0.0</td>\n",
       "      <td>1</td>\n",
       "    </tr>\n",
       "    <tr>\n",
       "      <th>...</th>\n",
       "      <td>...</td>\n",
       "      <td>...</td>\n",
       "      <td>...</td>\n",
       "      <td>...</td>\n",
       "    </tr>\n",
       "    <tr>\n",
       "      <th>333</th>\n",
       "      <td>0.323262</td>\n",
       "      <td>0.909091</td>\n",
       "      <td>0.4</td>\n",
       "      <td>5</td>\n",
       "    </tr>\n",
       "    <tr>\n",
       "      <th>334</th>\n",
       "      <td>0.444108</td>\n",
       "      <td>0.181818</td>\n",
       "      <td>1.0</td>\n",
       "      <td>5</td>\n",
       "    </tr>\n",
       "    <tr>\n",
       "      <th>335</th>\n",
       "      <td>0.353474</td>\n",
       "      <td>0.454545</td>\n",
       "      <td>1.0</td>\n",
       "      <td>5</td>\n",
       "    </tr>\n",
       "    <tr>\n",
       "      <th>336</th>\n",
       "      <td>0.362537</td>\n",
       "      <td>0.727273</td>\n",
       "      <td>1.0</td>\n",
       "      <td>5</td>\n",
       "    </tr>\n",
       "    <tr>\n",
       "      <th>337</th>\n",
       "      <td>0.314199</td>\n",
       "      <td>1.000000</td>\n",
       "      <td>1.0</td>\n",
       "      <td>5</td>\n",
       "    </tr>\n",
       "  </tbody>\n",
       "</table>\n",
       "<p>338 rows × 4 columns</p>\n",
       "</div>"
      ],
      "text/plain": [
       "            V         H    S  M\n",
       "0    0.338157  0.000000  0.0  1\n",
       "1    0.320241  0.181818  0.0  1\n",
       "2    0.287009  0.272727  0.0  1\n",
       "3    0.256284  0.454545  0.0  1\n",
       "4    0.262840  0.545455  0.0  1\n",
       "..        ...       ...  ... ..\n",
       "333  0.323262  0.909091  0.4  5\n",
       "334  0.444108  0.181818  1.0  5\n",
       "335  0.353474  0.454545  1.0  5\n",
       "336  0.362537  0.727273  1.0  5\n",
       "337  0.314199  1.000000  1.0  5\n",
       "\n",
       "[338 rows x 4 columns]"
      ]
     },
     "execution_count": 3,
     "metadata": {},
     "output_type": "execute_result"
    }
   ],
   "source": [
    "data"
   ]
  },
  {
   "cell_type": "code",
   "execution_count": 4,
   "metadata": {},
   "outputs": [
    {
     "data": {
      "text/html": [
       "<div>\n",
       "<style scoped>\n",
       "    .dataframe tbody tr th:only-of-type {\n",
       "        vertical-align: middle;\n",
       "    }\n",
       "\n",
       "    .dataframe tbody tr th {\n",
       "        vertical-align: top;\n",
       "    }\n",
       "\n",
       "    .dataframe thead th {\n",
       "        text-align: right;\n",
       "    }\n",
       "</style>\n",
       "<table border=\"1\" class=\"dataframe\">\n",
       "  <thead>\n",
       "    <tr style=\"text-align: right;\">\n",
       "      <th></th>\n",
       "      <th>V</th>\n",
       "      <th>H</th>\n",
       "      <th>S</th>\n",
       "      <th>M</th>\n",
       "    </tr>\n",
       "  </thead>\n",
       "  <tbody>\n",
       "    <tr>\n",
       "      <th>0</th>\n",
       "      <td>0.338157</td>\n",
       "      <td>0.000000</td>\n",
       "      <td>0.0</td>\n",
       "      <td>0</td>\n",
       "    </tr>\n",
       "    <tr>\n",
       "      <th>1</th>\n",
       "      <td>0.320241</td>\n",
       "      <td>0.181818</td>\n",
       "      <td>0.0</td>\n",
       "      <td>0</td>\n",
       "    </tr>\n",
       "    <tr>\n",
       "      <th>2</th>\n",
       "      <td>0.287009</td>\n",
       "      <td>0.272727</td>\n",
       "      <td>0.0</td>\n",
       "      <td>0</td>\n",
       "    </tr>\n",
       "    <tr>\n",
       "      <th>3</th>\n",
       "      <td>0.256284</td>\n",
       "      <td>0.454545</td>\n",
       "      <td>0.0</td>\n",
       "      <td>0</td>\n",
       "    </tr>\n",
       "    <tr>\n",
       "      <th>4</th>\n",
       "      <td>0.262840</td>\n",
       "      <td>0.545455</td>\n",
       "      <td>0.0</td>\n",
       "      <td>0</td>\n",
       "    </tr>\n",
       "    <tr>\n",
       "      <th>...</th>\n",
       "      <td>...</td>\n",
       "      <td>...</td>\n",
       "      <td>...</td>\n",
       "      <td>...</td>\n",
       "    </tr>\n",
       "    <tr>\n",
       "      <th>333</th>\n",
       "      <td>0.323262</td>\n",
       "      <td>0.909091</td>\n",
       "      <td>0.4</td>\n",
       "      <td>1</td>\n",
       "    </tr>\n",
       "    <tr>\n",
       "      <th>334</th>\n",
       "      <td>0.444108</td>\n",
       "      <td>0.181818</td>\n",
       "      <td>1.0</td>\n",
       "      <td>1</td>\n",
       "    </tr>\n",
       "    <tr>\n",
       "      <th>335</th>\n",
       "      <td>0.353474</td>\n",
       "      <td>0.454545</td>\n",
       "      <td>1.0</td>\n",
       "      <td>1</td>\n",
       "    </tr>\n",
       "    <tr>\n",
       "      <th>336</th>\n",
       "      <td>0.362537</td>\n",
       "      <td>0.727273</td>\n",
       "      <td>1.0</td>\n",
       "      <td>1</td>\n",
       "    </tr>\n",
       "    <tr>\n",
       "      <th>337</th>\n",
       "      <td>0.314199</td>\n",
       "      <td>1.000000</td>\n",
       "      <td>1.0</td>\n",
       "      <td>1</td>\n",
       "    </tr>\n",
       "  </tbody>\n",
       "</table>\n",
       "<p>338 rows × 4 columns</p>\n",
       "</div>"
      ],
      "text/plain": [
       "            V         H    S  M\n",
       "0    0.338157  0.000000  0.0  0\n",
       "1    0.320241  0.181818  0.0  0\n",
       "2    0.287009  0.272727  0.0  0\n",
       "3    0.256284  0.454545  0.0  0\n",
       "4    0.262840  0.545455  0.0  0\n",
       "..        ...       ...  ... ..\n",
       "333  0.323262  0.909091  0.4  1\n",
       "334  0.444108  0.181818  1.0  1\n",
       "335  0.353474  0.454545  1.0  1\n",
       "336  0.362537  0.727273  1.0  1\n",
       "337  0.314199  1.000000  1.0  1\n",
       "\n",
       "[338 rows x 4 columns]"
      ]
     },
     "execution_count": 4,
     "metadata": {},
     "output_type": "execute_result"
    }
   ],
   "source": [
    "data.loc[(data['M'] == 1),'M'] = 0\n",
    "data.loc[(data['M'] > 1),'M'] = 1\n",
    "data"
   ]
  },
  {
   "cell_type": "code",
   "execution_count": 5,
   "metadata": {},
   "outputs": [],
   "source": [
    "data = data.rename(columns={\"M\":\"Class\", })"
   ]
  },
  {
   "cell_type": "code",
   "execution_count": 6,
   "metadata": {},
   "outputs": [
    {
     "data": {
      "image/png": "[encoded data removed]",
      "text/plain": [
       "<Figure size 750x750 with 12 Axes>"
      ]
     },
     "metadata": {},
     "output_type": "display_data"
    }
   ],
   "source": [
    "sns.pairplot(data[[\"V\",\"H\",\"S\"]])\n",
    "plt.show()"
   ]
  },
  {
   "cell_type": "code",
   "execution_count": 18,
   "metadata": {},
   "outputs": [
    {
     "data": {
      "image/png": "[encoded data removed]",
      "text/plain": [
       "<Figure size 640x480 with 1 Axes>"
      ]
     },
     "metadata": {},
     "output_type": "display_data"
    }
   ],
   "source": [
    "plt.scatter(data.loc[(data['Class'] == 0),'V'],data.loc[(data['Class'] == 0),'H'],color=\"blue\")\n",
    "plt.scatter(data.loc[(data['Class'] == 1),'V'],data.loc[(data['Class'] == 1),'H'],color=\"yellow\", alpha=0.5)\n",
    "plt.show()"
   ]
  },
  {
   "cell_type": "code",
   "execution_count": 8,
   "metadata": {},
   "outputs": [
    {
     "data": {
      "image/png": "[encoded data removed]",
      "text/plain": [
       "<Figure size 640x480 with 1 Axes>"
      ]
     },
     "metadata": {},
     "output_type": "display_data"
    }
   ],
   "source": [
    "plt.scatter(data.loc[(data['Class'] == 0),'H'],data.loc[(data['Class'] == 0),'V'],color=\"black\")\n",
    "plt.scatter(data.loc[(data['Class'] == 1),'H'],data.loc[(data['Class'] == 1),'V'],color=\"red\", alpha=0.5)\n",
    "plt.show()"
   ]
  },
  {
   "cell_type": "code",
   "execution_count": 9,
   "metadata": {},
   "outputs": [
    {
     "data": {
      "image/png": "[encoded data removed]",
      "text/plain": [
       "<Figure size 640x480 with 1 Axes>"
      ]
     },
     "metadata": {},
     "output_type": "display_data"
    }
   ],
   "source": [
    "plt.scatter(data.loc[(data['Class'] == 0),'V'],data.loc[(data['Class'] == 0),'S'],color=\"black\")\n",
    "plt.scatter(data.loc[(data['Class'] == 1),'V'],data.loc[(data['Class'] == 1),'S'],color=\"red\")\n",
    "plt.show()"
   ]
  },
  {
   "cell_type": "code",
   "execution_count": 7,
   "metadata": {},
   "outputs": [],
   "source": [
    "data = data.rename(columns={\"H\":\"Y\", })"
   ]
  },
  {
   "cell_type": "code",
   "execution_count": 8,
   "metadata": {},
   "outputs": [
    {
     "data": {
      "text/html": [
       "<div>\n",
       "<style scoped>\n",
       "    .dataframe tbody tr th:only-of-type {\n",
       "        vertical-align: middle;\n",
       "    }\n",
       "\n",
       "    .dataframe tbody tr th {\n",
       "        vertical-align: top;\n",
       "    }\n",
       "\n",
       "    .dataframe thead th {\n",
       "        text-align: right;\n",
       "    }\n",
       "</style>\n",
       "<table border=\"1\" class=\"dataframe\">\n",
       "  <thead>\n",
       "    <tr style=\"text-align: right;\">\n",
       "      <th></th>\n",
       "      <th>V</th>\n",
       "      <th>Y</th>\n",
       "      <th>S</th>\n",
       "      <th>Class</th>\n",
       "    </tr>\n",
       "  </thead>\n",
       "  <tbody>\n",
       "    <tr>\n",
       "      <th>0</th>\n",
       "      <td>0.338157</td>\n",
       "      <td>0.000000</td>\n",
       "      <td>0.0</td>\n",
       "      <td>0</td>\n",
       "    </tr>\n",
       "    <tr>\n",
       "      <th>1</th>\n",
       "      <td>0.320241</td>\n",
       "      <td>0.181818</td>\n",
       "      <td>0.0</td>\n",
       "      <td>0</td>\n",
       "    </tr>\n",
       "    <tr>\n",
       "      <th>2</th>\n",
       "      <td>0.287009</td>\n",
       "      <td>0.272727</td>\n",
       "      <td>0.0</td>\n",
       "      <td>0</td>\n",
       "    </tr>\n",
       "    <tr>\n",
       "      <th>3</th>\n",
       "      <td>0.256284</td>\n",
       "      <td>0.454545</td>\n",
       "      <td>0.0</td>\n",
       "      <td>0</td>\n",
       "    </tr>\n",
       "    <tr>\n",
       "      <th>4</th>\n",
       "      <td>0.262840</td>\n",
       "      <td>0.545455</td>\n",
       "      <td>0.0</td>\n",
       "      <td>0</td>\n",
       "    </tr>\n",
       "    <tr>\n",
       "      <th>...</th>\n",
       "      <td>...</td>\n",
       "      <td>...</td>\n",
       "      <td>...</td>\n",
       "      <td>...</td>\n",
       "    </tr>\n",
       "    <tr>\n",
       "      <th>333</th>\n",
       "      <td>0.323262</td>\n",
       "      <td>0.909091</td>\n",
       "      <td>0.4</td>\n",
       "      <td>1</td>\n",
       "    </tr>\n",
       "    <tr>\n",
       "      <th>334</th>\n",
       "      <td>0.444108</td>\n",
       "      <td>0.181818</td>\n",
       "      <td>1.0</td>\n",
       "      <td>1</td>\n",
       "    </tr>\n",
       "    <tr>\n",
       "      <th>335</th>\n",
       "      <td>0.353474</td>\n",
       "      <td>0.454545</td>\n",
       "      <td>1.0</td>\n",
       "      <td>1</td>\n",
       "    </tr>\n",
       "    <tr>\n",
       "      <th>336</th>\n",
       "      <td>0.362537</td>\n",
       "      <td>0.727273</td>\n",
       "      <td>1.0</td>\n",
       "      <td>1</td>\n",
       "    </tr>\n",
       "    <tr>\n",
       "      <th>337</th>\n",
       "      <td>0.314199</td>\n",
       "      <td>1.000000</td>\n",
       "      <td>1.0</td>\n",
       "      <td>1</td>\n",
       "    </tr>\n",
       "  </tbody>\n",
       "</table>\n",
       "<p>338 rows × 4 columns</p>\n",
       "</div>"
      ],
      "text/plain": [
       "            V         Y    S  Class\n",
       "0    0.338157  0.000000  0.0      0\n",
       "1    0.320241  0.181818  0.0      0\n",
       "2    0.287009  0.272727  0.0      0\n",
       "3    0.256284  0.454545  0.0      0\n",
       "4    0.262840  0.545455  0.0      0\n",
       "..        ...       ...  ...    ...\n",
       "333  0.323262  0.909091  0.4      1\n",
       "334  0.444108  0.181818  1.0      1\n",
       "335  0.353474  0.454545  1.0      1\n",
       "336  0.362537  0.727273  1.0      1\n",
       "337  0.314199  1.000000  1.0      1\n",
       "\n",
       "[338 rows x 4 columns]"
      ]
     },
     "execution_count": 8,
     "metadata": {},
     "output_type": "execute_result"
    }
   ],
   "source": [
    "data"
   ]
  },
  {
   "cell_type": "code",
   "execution_count": 8,
   "metadata": {},
   "outputs": [
    {
     "data": {
      "application/vnd.plotly.v1+json": {
       "config": {
        "plotlyServerURL": "https://plot.ly"
       },
       "data": [
        {
         "hovertemplate": "Напряжение=%{x}<br>Высота=%{y}<br>Тип почвы=%{z}<br>Class=%{marker.color}<extra></extra>",
         "legendgroup": "",
         "marker": {
          "color": [
           0,
           0,
           0,
           0,
           0,
           0,
           0,
           0,
           0,
           0,
           0,
           0,
           0,
           0,
           0,
           0,
           0,
           0,
           0,
           0,
           0,
           0,
           0,
           0,
           0,
           0,
           0,
           0,
           0,
           0,
           0,
           0,
           0,
           0,
           0,
           0,
           0,
           0,
           0,
           0,
           0,
           0,
           0,
           0,
           0,
           0,
           0,
           1,
           1,
           1,
           1,
           1,
           1,
           1,
           1,
           1,
           1,
           1,
           1,
           1,
           1,
           1,
           1,
           1,
           1,
           1,
           1,
           1,
           1,
           1,
           1,
           1,
           1,
           1,
           1,
           1,
           1,
           1,
           1,
           1,
           1,
           1,
           1,
           1,
           1,
           1,
           1,
           1,
           1,
           1,
           1,
           1,
           1,
           1,
           1,
           1,
           1,
           1,
           1,
           1,
           1,
           1,
           1,
           1,
           1,
           1,
           1,
           1,
           1,
           1,
           1,
           1,
           1,
           1,
           1,
           1,
           1,
           1,
           1,
           1,
           1,
           1,
           1,
           1,
           1,
           1,
           1,
           1,
           1,
           1,
           1,
           1,
           1,
           1,
           1,
           1,
           1,
           1,
           1,
           1,
           1,
           1,
           1,
           1,
           1,
           1,
           1,
           1,
           1,
           1,
           1,
           1,
           1,
           1,
           1,
           1,
           1,
           1,
           1,
           1,
           1,
           1,
           1,
           1,
           1,
           1,
           1,
           1,
           1,
           1,
           1,
           1,
           1,
           1,
           1,
           1,
           1,
           1,
           1,
           1,
           1,
           1,
           1,
           1,
           1,
           1,
           1,
           1,
           1,
           1,
           1,
           1,
           1,
           1,
           1,
           1,
           1,
           1,
           1,
           1,
           1,
           1,
           1,
           1,
           1,
           1,
           1,
           1,
           1,
           1,
           1,
           1,
           1,
           1,
           1,
           1,
           1,
           1,
           1,
           1,
           1,
           1,
           1,
           1,
           1,
           0,
           0,
           0,
           0,
           0,
           0,
           0,
           0,
           0,
           0,
           0,
           0,
           0,
           0,
           0,
           0,
           0,
           0,
           0,
           0,
           0,
           0,
           0,
           0,
           1,
           1,
           1,
           1,
           1,
           1,
           1,
           1,
           1,
           1,
           1,
           1,
           1,
           1,
           1,
           1,
           1,
           1,
           1,
           1,
           1,
           1,
           1,
           1,
           1,
           1,
           1,
           1,
           1,
           1,
           1,
           1,
           1,
           1,
           1,
           1,
           1,
           1,
           1,
           1,
           1,
           1,
           1,
           1,
           1,
           1,
           1,
           1,
           1,
           1,
           1,
           1,
           1,
           1,
           1,
           1,
           1,
           1,
           1,
           1,
           1,
           1,
           1,
           1,
           1,
           1,
           1,
           1,
           1,
           1,
           1,
           1,
           1,
           1,
           1,
           1,
           1,
           1,
           1,
           1,
           1,
           1,
           1,
           1,
           1,
           1,
           1,
           1,
           1
          ],
          "coloraxis": "coloraxis",
          "symbol": "circle"
         },
         "mode": "markers",
         "name": "",
         "scene": "scene",
         "showlegend": false,
         "type": "scatter3d",
         "x": [
          0.338156758249332,
          0.320241334151485,
          0.287008750465028,
          0.256283622072919,
          0.262839598690364,
          0.240966462513951,
          0.25441048592615,
          0.234924174592517,
          0.353473917837944,
          0.335347053984713,
          0.335347053984713,
          0.330029894425744,
          0.335347053984713,
          0.305135614288615,
          0.256283622072919,
          0.235649302954982,
          0.315347053984713,
          0.283987606504311,
          0.303262478112203,
          0.274924174592517,
          0.260029894425744,
          0.259818454729646,
          0.283987606504311,
          0.26586074265108,
          0.323051038416105,
          0.305135614288615,
          0.314199046200409,
          0.302114470327899,
          0.323262478112203,
          0.314199046200409,
          0.323262478112203,
          0.274199046200409,
          0.347431629886867,
          0.341691590906059,
          0.296072182376821,
          0.310398760650431,
          0.296072182376821,
          0.317431629886867,
          0.329304766063279,
          0.308156758249332,
          0.338368197975073,
          0.295014983837045,
          0.271993839846685,
          0.271903030602157,
          0.292205279572426,
          0.285347053984713,
          0.302114470327899,
          0.999998727624942,
          0.999998727624942,
          0.999998727624942,
          0.906343264516646,
          0.658609458907856,
          0.610271155358527,
          0.453171668867674,
          0.442446540505209,
          0.999998727624942,
          0.999998727624942,
          0.975829575850278,
          0.815708945398709,
          0.655588314917496,
          0.628398019182114,
          0.50453111637772,
          0.474319676681622,
          0.719032338329695,
          0.622355731260681,
          0.531721412113101,
          0.50453111637772,
          0.438065949004804,
          0.398791077396912,
          0.362537349749738,
          0.999998727624942,
          0.912385552467722,
          0.957702712026691,
          0.758307209937586,
          0.734138058162922,
          0.495256244740185,
          0.468277388730545,
          0.467340820642339,
          0.999998727624942,
          0.999998727624942,
          0.999998727624942,
          0.999998727624942,
          0.999998727624942,
          0.8549838170066,
          0.628398019182114,
          0.549848275936688,
          0.999998727624942,
          0.891237544683418,
          0.999998727624942,
          0.809666657447632,
          0.716011194339335,
          0.507552260338436,
          0.549848275936688,
          0.444108236955881,
          0.389304766063279,
          0.365347053984713,
          0.368579637671171,
          0.338156758249332,
          0.317220190161126,
          0.319093326337538,
          0.335347053984713,
          0.303262478112203,
          0.613292299348887,
          0.425981373132293,
          0.384621925622248,
          0.35649506179866,
          0.350685357534042,
          0.338368197975073,
          0.34441048592615,
          0.444108236955881,
          0.389727645485118,
          0.35649506179866,
          0.353473917837944,
          0.35649506179866,
          0.314199046200409,
          0.25377616677857,
          0.574017427711353,
          0.477340820642339,
          0.483383108593416,
          0.407854509308706,
          0.386706501494758,
          0.389727645485118,
          0.365558493710454,
          0.326283622072919,
          0.66465174682929,
          0.510573404328796,
          0.483383108593416,
          0.395769933406552,
          0.362537349749738,
          0.352748789445835,
          0.352960229171577,
          0.561932851838842,
          0.586102003583863,
          0.489425396514849,
          0.425981373132293,
          0.350452773847583,
          0.335347053984713,
          0.30649506179866,
          0.513594548289513,
          0.407854509308706,
          0.389727645485118,
          0.338368197975073,
          0.353473917837944,
          0.368579637671171,
          0.362537349749738,
          0.501509972417003,
          0.441087092995164,
          0.404833365318346,
          0.377643069582965,
          0.347431629886867,
          0.330664213573324,
          0.329304766063279,
          0.309516205759377,
          0.531721412113101,
          0.50453111637772,
          0.438065949004804,
          0.398791077396912,
          0.362537349749738,
          0.314199046200409,
          0.329304766063279,
          0.28125225,
          0.273866976023098,
          0.256465240591618,
          0.227522439131395,
          0.235649302954982,
          0.207945318553234,
          0.197733878827493,
          0.242205279572426,
          0.240332143396014,
          0.262839598690364,
          0.25586074265108,
          0.233987606504311,
          0.213096646251395,
          0.234924174592517,
          0.59214429153494,
          0.416917941220499,
          0.422960229171577,
          0.407854509308706,
          0.332325910023996,
          0.329304766063279,
          0.365558493710454,
          0.329304766063279,
          0.583080859623146,
          0.311177902239692,
          0.277945318553234,
          0.335347053984713,
          0.229607015003905,
          0.290029894425744,
          0.302114470327899,
          0.314199046200409,
          0.558911707848482,
          0.501509972417003,
          0.534742556073818,
          0.489425396514849,
          0.443805988015255,
          0.389727645485118,
          0.395044805044087,
          0.365558493710454,
          0.422960229171577,
          0.347431629886867,
          0.332325910023996,
          0.296072182376821,
          0.332325910023996,
          0.419184135582067,
          0.422839598690364,
          0.378368197975073,
          0.371600781661531,
          0.348791077396912,
          0.353685357534042,
          0.323262478112203,
          0.295347053984713,
          0.471298532691261,
          0.444108236955881,
          0.383685357534042,
          0.350875653269422,
          0.34138934193579,
          0.34138934193579,
          0.296072182376821,
          0.495467684465926,
          0.410875653269422,
          0.371600781661531,
          0.323262478112203,
          0.302114470327899,
          0.350452773847583,
          0.308156758249332,
          0.320241334151485,
          0.26888188664144,
          0.250241334151485,
          0.25377616677857,
          0.36586074265108,
          0.326072182376821,
          0.29377616677857,
          0.244712734866776,
          0.296585871043189,
          0.274712734866776,
          0.280966462513951,
          0.229607015003905,
          0.317008750465028,
          0.314199046200409,
          0.305135614288615,
          0.296072182376821,
          0.338368197975073,
          0.302114470327899,
          0.332325910023996,
          0.302114470327899,
          0.290029894425744,
          0.259093326337538,
          0.288368197975073,
          0.287008750465028,
          0.999998727624942,
          0.788518649663327,
          0.586102003583863,
          0.439213956818751,
          0.999998727624942,
          0.725074626251129,
          0.534742556073818,
          0.450150524906957,
          0.513594548289513,
          0.480361964603055,
          0.371600781661531,
          0.999998727624942,
          0.712990050378618,
          0.628398019182114,
          0.483383108593416,
          0.999998727624942,
          0.999998727624942,
          0.851962673045883,
          0.59214429153494,
          0.993956439673866,
          0.779455217751534,
          0.655588314917496,
          0.444108236955881,
          0.374621925622248,
          0.34441048592615,
          0.315558493710454,
          0.303685357534042,
          0.492446540505209,
          0.374706501494758,
          0.356072182376821,
          0.534742556073818,
          0.395769933406552,
          0.353473917837944,
          0.280966462513951,
          0.480361964603055,
          0.43202366108337,
          0.271903030602157,
          0.302114470327899,
          0.549848275936688,
          0.416917941220499,
          0.380664213573324,
          0.752264922016152,
          0.522657980201307,
          0.404833365318346,
          0.311177902239692,
          0.471298532691261,
          0.380664213573324,
          0.308156758249332,
          0.359516205759377,
          0.423473917837944,
          0.359516205759377,
          0.333685357534042,
          0.513594548289513,
          0.480361964603055,
          0.371600781661531,
          0.326283622072919,
          0.271782400150587,
          0.241993839846685,
          0.227008750465028,
          0.26377616677857,
          0.223564727082472,
          0.25377616677857,
          0.209818454729646,
          0.462235100779468,
          0.413896797259783,
          0.347431629886867,
          0.335347053984713,
          0.444108236955881,
          0.296072182376821,
          0.35649506179866,
          0.320241334151485,
          0.540784844024894,
          0.506102003583863,
          0.401812221357629,
          0.36900251709301,
          0.362839598690364,
          0.320241334151485,
          0.446283622072919,
          0.391177902239692,
          0.378156758249332,
          0.319939085181216,
          0.51963683624059,
          0.398791077396912,
          0.347431629886867,
          0.323262478112203,
          0.444108236955881,
          0.353473917837944,
          0.362537349749738,
          0.314199046200409
         ],
         "y": [
          0,
          0.181818181818182,
          0.272727272727273,
          0.454545454545455,
          0.545454545454545,
          0.727272727272727,
          0.818181818181818,
          1,
          0,
          0.181818181818182,
          0.272727272727273,
          0.454545454545455,
          0.545454545454545,
          0.727272727272727,
          0.818181818181818,
          1,
          0,
          0.181818181818182,
          0.272727272727273,
          0.454545454545455,
          0.545454545454545,
          0.727272727272727,
          0.818181818181818,
          1,
          0,
          0.181818181818182,
          0.272727272727273,
          0.454545454545455,
          0.545454545454545,
          0.727272727272727,
          0.818181818181818,
          1,
          0,
          0.181818181818182,
          0.272727272727273,
          0.454545454545455,
          0.545454545454545,
          0.727272727272727,
          0.818181818181818,
          1,
          0,
          0.181818181818182,
          0.272727272727273,
          0.454545454545455,
          0.545454545454545,
          0.727272727272727,
          0.909090909090909,
          0,
          0.0909090909090909,
          0.272727272727273,
          0.363636363636364,
          0.545454545454545,
          0.636363636363636,
          0.818181818181818,
          0.909090909090909,
          0,
          0.0909090909090909,
          0.272727272727273,
          0.363636363636364,
          0.545454545454545,
          0.636363636363636,
          0.818181818181818,
          0.909090909090909,
          0,
          0.0909090909090909,
          0.272727272727273,
          0.363636363636364,
          0.545454545454545,
          0.636363636363636,
          0.818181818181818,
          0,
          0.181818181818182,
          0.272727272727273,
          0.454545454545455,
          0.545454545454545,
          0.727272727272727,
          0.818181818181818,
          1,
          0,
          0.181818181818182,
          0.272727272727273,
          0.454545454545455,
          0.545454545454545,
          0.727272727272727,
          0.818181818181818,
          1,
          0,
          0.181818181818182,
          0.272727272727273,
          0.454545454545455,
          0.545454545454545,
          0.727272727272727,
          0.818181818181818,
          1,
          0,
          0.181818181818182,
          0.272727272727273,
          0.454545454545455,
          0.545454545454545,
          0.727272727272727,
          0.818181818181818,
          1,
          0.181818181818182,
          0.363636363636364,
          0.454545454545455,
          0.636363636363636,
          0.727272727272727,
          0.909090909090909,
          1,
          0.0909090909090909,
          0.181818181818182,
          0.363636363636364,
          0.454545454545455,
          0.636363636363636,
          0.727272727272727,
          0.909090909090909,
          0,
          0.181818181818182,
          0.272727272727273,
          0.454545454545455,
          0.545454545454545,
          0.727272727272727,
          0.818181818181818,
          1,
          0.181818181818182,
          0.363636363636364,
          0.454545454545455,
          0.636363636363636,
          0.727272727272727,
          0.909090909090909,
          1,
          0.181818181818182,
          0.272727272727273,
          0.454545454545455,
          0.545454545454545,
          0.727272727272727,
          0.818181818181818,
          1,
          0.0909090909090909,
          0.272727272727273,
          0.363636363636364,
          0.545454545454545,
          0.636363636363636,
          0.818181818181818,
          0.909090909090909,
          0,
          0.0909090909090909,
          0.363636363636364,
          0.454545454545455,
          0.636363636363636,
          0.727272727272727,
          0.909090909090909,
          1,
          0.181818181818182,
          0.272727272727273,
          0.454545454545455,
          0.545454545454545,
          0.727272727272727,
          0.818181818181818,
          1,
          0,
          0.181818181818182,
          0.272727272727273,
          0.454545454545455,
          0.545454545454545,
          0.727272727272727,
          0.818181818181818,
          0.0909090909090909,
          0.181818181818182,
          0.454545454545455,
          0.545454545454545,
          0.727272727272727,
          0.818181818181818,
          1,
          0,
          0.181818181818182,
          0.272727272727273,
          0.454545454545455,
          0.545454545454545,
          0.727272727272727,
          0.818181818181818,
          1,
          0,
          0.181818181818182,
          0.272727272727273,
          0.454545454545455,
          0.545454545454545,
          0.727272727272727,
          0.818181818181818,
          1,
          0,
          0.181818181818182,
          0.272727272727273,
          0.454545454545455,
          0.545454545454545,
          0.727272727272727,
          0.818181818181818,
          1,
          0.181818181818182,
          0.545454545454545,
          0.636363636363636,
          0.909090909090909,
          1,
          0.0909090909090909,
          0.181818181818182,
          0.363636363636364,
          0.454545454545455,
          0.636363636363636,
          0.727272727272727,
          0.909090909090909,
          1,
          0.181818181818182,
          0.272727272727273,
          0.454545454545455,
          0.545454545454545,
          0.727272727272727,
          0.818181818181818,
          1,
          0.0909090909090909,
          0.272727272727273,
          0.363636363636364,
          0.545454545454545,
          0.636363636363636,
          0.818181818181818,
          0.909090909090909,
          0.0909090909090909,
          0.363636363636364,
          0.636363636363636,
          0.909090909090909,
          0.0909090909090909,
          0.363636363636364,
          0.636363636363636,
          0.909090909090909,
          0.0909090909090909,
          0.363636363636364,
          0.636363636363636,
          0.909090909090909,
          0.0909090909090909,
          0.363636363636364,
          0.636363636363636,
          0.909090909090909,
          0.0909090909090909,
          0.363636363636364,
          0.636363636363636,
          0.909090909090909,
          0.0909090909090909,
          0.363636363636364,
          0.636363636363636,
          1,
          0.181818181818182,
          0.454545454545455,
          0.727272727272727,
          1,
          0.181818181818182,
          0.454545454545455,
          0.727272727272727,
          1,
          0.181818181818182,
          0.454545454545455,
          0.727272727272727,
          0.0909090909090909,
          0.363636363636364,
          0.636363636363636,
          0.909090909090909,
          0.0909090909090909,
          0.363636363636364,
          0.636363636363636,
          0.909090909090909,
          0.0909090909090909,
          0.363636363636364,
          0.636363636363636,
          0.909090909090909,
          0.0909090909090909,
          0.363636363636364,
          0.636363636363636,
          0.909090909090909,
          0.272727272727273,
          0.545454545454545,
          0.818181818181818,
          0,
          0.272727272727273,
          0.545454545454545,
          0.818181818181818,
          0.0909090909090909,
          0.363636363636364,
          0.636363636363636,
          0.909090909090909,
          0.272727272727273,
          0.545454545454545,
          0.818181818181818,
          0.0909090909090909,
          0.363636363636364,
          0.636363636363636,
          0.909090909090909,
          0.181818181818182,
          0.454545454545455,
          0.727272727272727,
          1,
          0.181818181818182,
          0.545454545454545,
          0.818181818181818,
          0.0909090909090909,
          0.363636363636364,
          0.636363636363636,
          0.909090909090909,
          0.0909090909090909,
          0.363636363636364,
          0.636363636363636,
          0,
          0.272727272727273,
          0.636363636363636,
          0.909090909090909,
          0.0909090909090909,
          0.363636363636364,
          0.636363636363636,
          0.909090909090909,
          0.0909090909090909,
          0.363636363636364,
          0.636363636363636,
          0.909090909090909,
          0.0909090909090909,
          0.363636363636364,
          0.636363636363636,
          0.909090909090909,
          0.363636363636364,
          0.818181818181818,
          0,
          0.272727272727273,
          0.545454545454545,
          0.818181818181818,
          0.0909090909090909,
          0.363636363636364,
          0.636363636363636,
          0.909090909090909,
          0.181818181818182,
          0.454545454545455,
          0.727272727272727,
          1
         ],
         "z": [
          0,
          0,
          0,
          0,
          0,
          0,
          0,
          0,
          0.6,
          0.6,
          0.6,
          0.6,
          0.6,
          0.6,
          0.6,
          0.6,
          0.2,
          0.2,
          0.2,
          0.2,
          0.2,
          0.2,
          0.2,
          0.2,
          0.8,
          0.8,
          0.8,
          0.8,
          0.8,
          0.8,
          0.8,
          0.8,
          0.4,
          0.4,
          0.4,
          0.4,
          0.4,
          0.4,
          0.4,
          0.4,
          1,
          1,
          1,
          1,
          1,
          1,
          1,
          0,
          0,
          0,
          0,
          0,
          0,
          0,
          0,
          0.6,
          0.6,
          0.6,
          0.6,
          0.6,
          0.6,
          0.6,
          0.6,
          0.2,
          0.2,
          0.2,
          0.2,
          0.2,
          0.2,
          0.2,
          0.8,
          0.8,
          0.8,
          0.8,
          0.8,
          0.8,
          0.8,
          0.8,
          0.4,
          0.4,
          0.4,
          0.4,
          0.4,
          0.4,
          0.4,
          0.4,
          1,
          1,
          1,
          1,
          1,
          1,
          1,
          1,
          0,
          0,
          0,
          0,
          0,
          0,
          0,
          0,
          0.6,
          0.6,
          0.6,
          0.6,
          0.6,
          0.6,
          0.6,
          0.2,
          0.2,
          0.2,
          0.2,
          0.2,
          0.2,
          0.2,
          0.8,
          0.8,
          0.8,
          0.8,
          0.8,
          0.8,
          0.8,
          0.8,
          0.4,
          0.4,
          0.4,
          0.4,
          0.4,
          0.4,
          0.4,
          1,
          1,
          1,
          1,
          1,
          1,
          1,
          0,
          0,
          0,
          0,
          0,
          0,
          0,
          0.6,
          0.6,
          0.6,
          0.6,
          0.6,
          0.6,
          0.6,
          0.6,
          0.2,
          0.2,
          0.2,
          0.2,
          0.2,
          0.2,
          0.2,
          0.8,
          0.8,
          0.8,
          0.8,
          0.8,
          0.8,
          0.8,
          0.4,
          0.4,
          0.4,
          0.4,
          0.4,
          0.4,
          0.4,
          1,
          1,
          1,
          1,
          1,
          1,
          1,
          1,
          0,
          0,
          0,
          0,
          0,
          0,
          0,
          0,
          0.6,
          0.6,
          0.6,
          0.6,
          0.6,
          0.6,
          0.6,
          0.6,
          0.2,
          0.2,
          0.2,
          0.2,
          0.2,
          0.8,
          0.8,
          0.8,
          0.8,
          0.8,
          0.8,
          0.8,
          0.8,
          0.4,
          0.4,
          0.4,
          0.4,
          0.4,
          0.4,
          0.4,
          1,
          1,
          1,
          1,
          1,
          1,
          1,
          0,
          0,
          0,
          0,
          0.6,
          0.6,
          0.6,
          0.6,
          0.2,
          0.2,
          0.2,
          0.2,
          0.8,
          0.8,
          0.8,
          0.8,
          0.4,
          0.4,
          0.4,
          0.4,
          1,
          1,
          1,
          1,
          0,
          0,
          0,
          0,
          0.6,
          0.6,
          0.6,
          0.6,
          0.2,
          0.2,
          0.2,
          0.8,
          0.8,
          0.8,
          0.8,
          0.4,
          0.4,
          0.4,
          0.4,
          1,
          1,
          1,
          1,
          0,
          0,
          0,
          0,
          0.6,
          0.6,
          0.6,
          0.2,
          0.2,
          0.2,
          0.2,
          0.8,
          0.8,
          0.8,
          0.8,
          0.4,
          0.4,
          0.4,
          1,
          1,
          1,
          1,
          0,
          0,
          0,
          0,
          0.6,
          0.6,
          0.6,
          0.2,
          0.2,
          0.2,
          0.2,
          0.8,
          0.8,
          0.8,
          0.4,
          0.4,
          0.4,
          0.4,
          1,
          1,
          1,
          1,
          0,
          0,
          0,
          0,
          0.6,
          0.6,
          0.6,
          0.6,
          0.2,
          0.2,
          0.8,
          0.8,
          0.8,
          0.8,
          0.4,
          0.4,
          0.4,
          0.4,
          1,
          1,
          1,
          1
         ]
        }
       ],
       "layout": {
        "coloraxis": {
         "colorbar": {
          "title": {
           "text": "Class"
          }
         },
         "colorscale": [
          [
           0,
           "#0d0887"
          ],
          [
           0.1111111111111111,
           "#46039f"
          ],
          [
           0.2222222222222222,
           "#7201a8"
          ],
          [
           0.3333333333333333,
           "#9c179e"
          ],
          [
           0.4444444444444444,
           "#bd3786"
          ],
          [
           0.5555555555555556,
           "#d8576b"
          ],
          [
           0.6666666666666666,
           "#ed7953"
          ],
          [
           0.7777777777777778,
           "#fb9f3a"
          ],
          [
           0.8888888888888888,
           "#fdca26"
          ],
          [
           1,
           "#f0f921"
          ]
         ]
        },
        "height": 800,
        "legend": {
         "tracegroupgap": 0
        },
        "scene": {
         "domain": {
          "x": [
           0,
           1
          ],
          "y": [
           0,
           1
          ]
         },
         "xaxis": {
          "title": {
           "text": "Напряжение"
          }
         },
         "yaxis": {
          "title": {
           "text": "Высота"
          }
         },
         "zaxis": {
          "title": {
           "text": "Тип почвы"
          }
         }
        },
        "template": {
         "data": {
          "bar": [
           {
            "error_x": {
             "color": "#2a3f5f"
            },
            "error_y": {
             "color": "#2a3f5f"
            },
            "marker": {
             "line": {
              "color": "#E5ECF6",
              "width": 0.5
             },
             "pattern": {
              "fillmode": "overlay",
              "size": 10,
              "solidity": 0.2
             }
            },
            "type": "bar"
           }
          ],
          "barpolar": [
           {
            "marker": {
             "line": {
              "color": "#E5ECF6",
              "width": 0.5
             },
             "pattern": {
              "fillmode": "overlay",
              "size": 10,
              "solidity": 0.2
             }
            },
            "type": "barpolar"
           }
          ],
          "carpet": [
           {
            "aaxis": {
             "endlinecolor": "#2a3f5f",
             "gridcolor": "white",
             "linecolor": "white",
             "minorgridcolor": "white",
             "startlinecolor": "#2a3f5f"
            },
            "baxis": {
             "endlinecolor": "#2a3f5f",
             "gridcolor": "white",
             "linecolor": "white",
             "minorgridcolor": "white",
             "startlinecolor": "#2a3f5f"
            },
            "type": "carpet"
           }
          ],
          "choropleth": [
           {
            "colorbar": {
             "outlinewidth": 0,
             "ticks": ""
            },
            "type": "choropleth"
           }
          ],
          "contour": [
           {
            "colorbar": {
             "outlinewidth": 0,
             "ticks": ""
            },
            "colorscale": [
             [
              0,
              "#0d0887"
             ],
             [
              0.1111111111111111,
              "#46039f"
             ],
             [
              0.2222222222222222,
              "#7201a8"
             ],
             [
              0.3333333333333333,
              "#9c179e"
             ],
             [
              0.4444444444444444,
              "#bd3786"
             ],
             [
              0.5555555555555556,
              "#d8576b"
             ],
             [
              0.6666666666666666,
              "#ed7953"
             ],
             [
              0.7777777777777778,
              "#fb9f3a"
             ],
             [
              0.8888888888888888,
              "#fdca26"
             ],
             [
              1,
              "#f0f921"
             ]
            ],
            "type": "contour"
           }
          ],
          "contourcarpet": [
           {
            "colorbar": {
             "outlinewidth": 0,
             "ticks": ""
            },
            "type": "contourcarpet"
           }
          ],
          "heatmap": [
           {
            "colorbar": {
             "outlinewidth": 0,
             "ticks": ""
            },
            "colorscale": [
             [
              0,
              "#0d0887"
             ],
             [
              0.1111111111111111,
              "#46039f"
             ],
             [
              0.2222222222222222,
              "#7201a8"
             ],
             [
              0.3333333333333333,
              "#9c179e"
             ],
             [
              0.4444444444444444,
              "#bd3786"
             ],
             [
              0.5555555555555556,
              "#d8576b"
             ],
             [
              0.6666666666666666,
              "#ed7953"
             ],
             [
              0.7777777777777778,
              "#fb9f3a"
             ],
             [
              0.8888888888888888,
              "#fdca26"
             ],
             [
              1,
              "#f0f921"
             ]
            ],
            "type": "heatmap"
           }
          ],
          "heatmapgl": [
           {
            "colorbar": {
             "outlinewidth": 0,
             "ticks": ""
            },
            "colorscale": [
             [
              0,
              "#0d0887"
             ],
             [
              0.1111111111111111,
              "#46039f"
             ],
             [
              0.2222222222222222,
              "#7201a8"
             ],
             [
              0.3333333333333333,
              "#9c179e"
             ],
             [
              0.4444444444444444,
              "#bd3786"
             ],
             [
              0.5555555555555556,
              "#d8576b"
             ],
             [
              0.6666666666666666,
              "#ed7953"
             ],
             [
              0.7777777777777778,
              "#fb9f3a"
             ],
             [
              0.8888888888888888,
              "#fdca26"
             ],
             [
              1,
              "#f0f921"
             ]
            ],
            "type": "heatmapgl"
           }
          ],
          "histogram": [
           {
            "marker": {
             "pattern": {
              "fillmode": "overlay",
              "size": 10,
              "solidity": 0.2
             }
            },
            "type": "histogram"
           }
          ],
          "histogram2d": [
           {
            "colorbar": {
             "outlinewidth": 0,
             "ticks": ""
            },
            "colorscale": [
             [
              0,
              "#0d0887"
             ],
             [
              0.1111111111111111,
              "#46039f"
             ],
             [
              0.2222222222222222,
              "#7201a8"
             ],
             [
              0.3333333333333333,
              "#9c179e"
             ],
             [
              0.4444444444444444,
              "#bd3786"
             ],
             [
              0.5555555555555556,
              "#d8576b"
             ],
             [
              0.6666666666666666,
              "#ed7953"
             ],
             [
              0.7777777777777778,
              "#fb9f3a"
             ],
             [
              0.8888888888888888,
              "#fdca26"
             ],
             [
              1,
              "#f0f921"
             ]
            ],
            "type": "histogram2d"
           }
          ],
          "histogram2dcontour": [
           {
            "colorbar": {
             "outlinewidth": 0,
             "ticks": ""
            },
            "colorscale": [
             [
              0,
              "#0d0887"
             ],
             [
              0.1111111111111111,
              "#46039f"
             ],
             [
              0.2222222222222222,
              "#7201a8"
             ],
             [
              0.3333333333333333,
              "#9c179e"
             ],
             [
              0.4444444444444444,
              "#bd3786"
             ],
             [
              0.5555555555555556,
              "#d8576b"
             ],
             [
              0.6666666666666666,
              "#ed7953"
             ],
             [
              0.7777777777777778,
              "#fb9f3a"
             ],
             [
              0.8888888888888888,
              "#fdca26"
             ],
             [
              1,
              "#f0f921"
             ]
            ],
            "type": "histogram2dcontour"
           }
          ],
          "mesh3d": [
           {
            "colorbar": {
             "outlinewidth": 0,
             "ticks": ""
            },
            "type": "mesh3d"
           }
          ],
          "parcoords": [
           {
            "line": {
             "colorbar": {
              "outlinewidth": 0,
              "ticks": ""
             }
            },
            "type": "parcoords"
           }
          ],
          "pie": [
           {
            "automargin": true,
            "type": "pie"
           }
          ],
          "scatter": [
           {
            "fillpattern": {
             "fillmode": "overlay",
             "size": 10,
             "solidity": 0.2
            },
            "type": "scatter"
           }
          ],
          "scatter3d": [
           {
            "line": {
             "colorbar": {
              "outlinewidth": 0,
              "ticks": ""
             }
            },
            "marker": {
             "colorbar": {
              "outlinewidth": 0,
              "ticks": ""
             }
            },
            "type": "scatter3d"
           }
          ],
          "scattercarpet": [
           {
            "marker": {
             "colorbar": {
              "outlinewidth": 0,
              "ticks": ""
             }
            },
            "type": "scattercarpet"
           }
          ],
          "scattergeo": [
           {
            "marker": {
             "colorbar": {
              "outlinewidth": 0,
              "ticks": ""
             }
            },
            "type": "scattergeo"
           }
          ],
          "scattergl": [
           {
            "marker": {
             "colorbar": {
              "outlinewidth": 0,
              "ticks": ""
             }
            },
            "type": "scattergl"
           }
          ],
          "scattermapbox": [
           {
            "marker": {
             "colorbar": {
              "outlinewidth": 0,
              "ticks": ""
             }
            },
            "type": "scattermapbox"
           }
          ],
          "scatterpolar": [
           {
            "marker": {
             "colorbar": {
              "outlinewidth": 0,
              "ticks": ""
             }
            },
            "type": "scatterpolar"
           }
          ],
          "scatterpolargl": [
           {
            "marker": {
             "colorbar": {
              "outlinewidth": 0,
              "ticks": ""
             }
            },
            "type": "scatterpolargl"
           }
          ],
          "scatterternary": [
           {
            "marker": {
             "colorbar": {
              "outlinewidth": 0,
              "ticks": ""
             }
            },
            "type": "scatterternary"
           }
          ],
          "surface": [
           {
            "colorbar": {
             "outlinewidth": 0,
             "ticks": ""
            },
            "colorscale": [
             [
              0,
              "#0d0887"
             ],
             [
              0.1111111111111111,
              "#46039f"
             ],
             [
              0.2222222222222222,
              "#7201a8"
             ],
             [
              0.3333333333333333,
              "#9c179e"
             ],
             [
              0.4444444444444444,
              "#bd3786"
             ],
             [
              0.5555555555555556,
              "#d8576b"
             ],
             [
              0.6666666666666666,
              "#ed7953"
             ],
             [
              0.7777777777777778,
              "#fb9f3a"
             ],
             [
              0.8888888888888888,
              "#fdca26"
             ],
             [
              1,
              "#f0f921"
             ]
            ],
            "type": "surface"
           }
          ],
          "table": [
           {
            "cells": {
             "fill": {
              "color": "#EBF0F8"
             },
             "line": {
              "color": "white"
             }
            },
            "header": {
             "fill": {
              "color": "#C8D4E3"
             },
             "line": {
              "color": "white"
             }
            },
            "type": "table"
           }
          ]
         },
         "layout": {
          "annotationdefaults": {
           "arrowcolor": "#2a3f5f",
           "arrowhead": 0,
           "arrowwidth": 1
          },
          "autotypenumbers": "strict",
          "coloraxis": {
           "colorbar": {
            "outlinewidth": 0,
            "ticks": ""
           }
          },
          "colorscale": {
           "diverging": [
            [
             0,
             "#8e0152"
            ],
            [
             0.1,
             "#c51b7d"
            ],
            [
             0.2,
             "#de77ae"
            ],
            [
             0.3,
             "#f1b6da"
            ],
            [
             0.4,
             "#fde0ef"
            ],
            [
             0.5,
             "#f7f7f7"
            ],
            [
             0.6,
             "#e6f5d0"
            ],
            [
             0.7,
             "#b8e186"
            ],
            [
             0.8,
             "#7fbc41"
            ],
            [
             0.9,
             "#4d9221"
            ],
            [
             1,
             "#276419"
            ]
           ],
           "sequential": [
            [
             0,
             "#0d0887"
            ],
            [
             0.1111111111111111,
             "#46039f"
            ],
            [
             0.2222222222222222,
             "#7201a8"
            ],
            [
             0.3333333333333333,
             "#9c179e"
            ],
            [
             0.4444444444444444,
             "#bd3786"
            ],
            [
             0.5555555555555556,
             "#d8576b"
            ],
            [
             0.6666666666666666,
             "#ed7953"
            ],
            [
             0.7777777777777778,
             "#fb9f3a"
            ],
            [
             0.8888888888888888,
             "#fdca26"
            ],
            [
             1,
             "#f0f921"
            ]
           ],
           "sequentialminus": [
            [
             0,
             "#0d0887"
            ],
            [
             0.1111111111111111,
             "#46039f"
            ],
            [
             0.2222222222222222,
             "#7201a8"
            ],
            [
             0.3333333333333333,
             "#9c179e"
            ],
            [
             0.4444444444444444,
             "#bd3786"
            ],
            [
             0.5555555555555556,
             "#d8576b"
            ],
            [
             0.6666666666666666,
             "#ed7953"
            ],
            [
             0.7777777777777778,
             "#fb9f3a"
            ],
            [
             0.8888888888888888,
             "#fdca26"
            ],
            [
             1,
             "#f0f921"
            ]
           ]
          },
          "colorway": [
           "#636efa",
           "#EF553B",
           "#00cc96",
           "#ab63fa",
           "#FFA15A",
           "#19d3f3",
           "#FF6692",
           "#B6E880",
           "#FF97FF",
           "#FECB52"
          ],
          "font": {
           "color": "#2a3f5f"
          },
          "geo": {
           "bgcolor": "white",
           "lakecolor": "white",
           "landcolor": "#E5ECF6",
           "showlakes": true,
           "showland": true,
           "subunitcolor": "white"
          },
          "hoverlabel": {
           "align": "left"
          },
          "hovermode": "closest",
          "mapbox": {
           "style": "light"
          },
          "paper_bgcolor": "white",
          "plot_bgcolor": "#E5ECF6",
          "polar": {
           "angularaxis": {
            "gridcolor": "white",
            "linecolor": "white",
            "ticks": ""
           },
           "bgcolor": "#E5ECF6",
           "radialaxis": {
            "gridcolor": "white",
            "linecolor": "white",
            "ticks": ""
           }
          },
          "scene": {
           "xaxis": {
            "backgroundcolor": "#E5ECF6",
            "gridcolor": "white",
            "gridwidth": 2,
            "linecolor": "white",
            "showbackground": true,
            "ticks": "",
            "zerolinecolor": "white"
           },
           "yaxis": {
            "backgroundcolor": "#E5ECF6",
            "gridcolor": "white",
            "gridwidth": 2,
            "linecolor": "white",
            "showbackground": true,
            "ticks": "",
            "zerolinecolor": "white"
           },
           "zaxis": {
            "backgroundcolor": "#E5ECF6",
            "gridcolor": "white",
            "gridwidth": 2,
            "linecolor": "white",
            "showbackground": true,
            "ticks": "",
            "zerolinecolor": "white"
           }
          },
          "shapedefaults": {
           "line": {
            "color": "#2a3f5f"
           }
          },
          "ternary": {
           "aaxis": {
            "gridcolor": "white",
            "linecolor": "white",
            "ticks": ""
           },
           "baxis": {
            "gridcolor": "white",
            "linecolor": "white",
            "ticks": ""
           },
           "bgcolor": "#E5ECF6",
           "caxis": {
            "gridcolor": "white",
            "linecolor": "white",
            "ticks": ""
           }
          },
          "title": {
           "x": 0.05
          },
          "xaxis": {
           "automargin": true,
           "gridcolor": "white",
           "linecolor": "white",
           "ticks": "",
           "title": {
            "standoff": 15
           },
           "zerolinecolor": "white",
           "zerolinewidth": 2
          },
          "yaxis": {
           "automargin": true,
           "gridcolor": "white",
           "linecolor": "white",
           "ticks": "",
           "title": {
            "standoff": 15
           },
           "zerolinecolor": "white",
           "zerolinewidth": 2
          }
         }
        },
        "title": {
         "text": "3D Land Mines Dataset Visualization"
        },
        "width": 1000
       }
      }
     },
     "metadata": {},
     "output_type": "display_data"
    }
   ],
   "source": [
    "# Предположим, что последний столбец - это метки классов\n",
    "X = data.iloc[:, :-1]  # Все столбцы, кроме последнего\n",
    "y = data.iloc[:, -1]   # Последний столбец\n",
    "\n",
    "# Добавляем метки классов в DataFrame\n",
    "data['Class'] = y\n",
    "\n",
    "# Построение интерактивного 3D графика\n",
    "fig = px.scatter_3d(data, x=X.iloc[:, 0], y=X.iloc[:, 1], z=X.iloc[:, 2], color='Class',\n",
    "                    title='3D Land Mines Dataset Visualization',\n",
    "                    labels={'x': 'Напряжение', 'y': 'Высота', 'z': 'Тип почвы'}, )\n",
    "\n",
    "# Увеличение размера графика\n",
    "fig.update_layout(width=1000, height=800)\n",
    "\n",
    "# Отображение графика\n",
    "fig.show()"
   ]
  },
  {
   "cell_type": "code",
   "execution_count": 9,
   "metadata": {},
   "outputs": [],
   "source": [
    "numerical_names = [\"V\",\"S\"]"
   ]
  },
  {
   "cell_type": "code",
   "execution_count": 11,
   "metadata": {},
   "outputs": [],
   "source": [
    "true_class = np.array(data['Class'])\n",
    "y_train = np.array( data['Y'] )\n",
    "size = len(y_train)\n",
    "train = []\n",
    "for column in numerical_names:\n",
    "    train.append( np.reshape( data[column].to_numpy() , (size,1) ) )\n",
    "X_train = np.array(train[0])\n",
    "X_train = np.append( X_train, train[1], axis=1 )\n"
   ]
  },
  {
   "cell_type": "code",
   "execution_count": 41,
   "metadata": {},
   "outputs": [
    {
     "name": "stderr",
     "output_type": "stream",
     "text": [
      "100%|██████████| 20/20 [00:09<00:00,  2.22it/s]"
     ]
    },
    {
     "name": "stdout",
     "output_type": "stream",
     "text": [
      "Значение фитнесса: 0.90234375\n"
     ]
    },
    {
     "name": "stderr",
     "output_type": "stream",
     "text": [
      "\n"
     ]
    },
    {
     "data": {
      "image/png": "[encoded data removed]",
      "text/plain": [
       "<Figure size 640x480 with 1 Axes>"
      ]
     },
     "metadata": {},
     "output_type": "display_data"
    },
    {
     "name": "stdout",
     "output_type": "stream",
     "text": [
      "Достигнутая точность: 0.8520710059171598\n",
      "Done!\n"
     ]
    }
   ],
   "source": [
    "model = gp_population(X_train, y_train, true_class, 2, generations_count=20, mutation_probability=0.5, selection_type='tournament',depth=5, tournament_size = 15)\n",
    "model.fit()\n",
    "model.best_individ_of_generation[0][0].draw_tree()\n",
    "\n",
    "rule = model.final_rule\n",
    "if len(rule) == 1:\n",
    "    rule = np.ones(len(X_train)) * rule\n",
    "\n",
    "data['predicted_class'] = model.final_labels\n",
    "data['predicted_rule'] = rule\n",
    "\n",
    "\n",
    "\n",
    "plt.plot(model.history[:,0], label='Лучший')\n",
    "plt.plot(model.history[:,1], label='Худший')\n",
    "plt.legend()\n",
    "plt.show()\n",
    "\n",
    "\n",
    "print(f\"Достигнутая точность: {accuracy_score(model.final_labels, true_class)}\")\n",
    "print('Done!')"
   ]
  },
  {
   "cell_type": "code",
   "execution_count": 42,
   "metadata": {},
   "outputs": [
    {
     "data": {
      "image/png": "[encoded data removed]",
      "text/plain": [
       "<Figure size 640x480 with 1 Axes>"
      ]
     },
     "metadata": {},
     "output_type": "display_data"
    }
   ],
   "source": [
    "data_for_pics = data.sort_values(by=['V'])\n",
    "plt.title(\"Построение решающего правила\")\n",
    "plt.grid()\n",
    "plt.scatter(data_for_pics.loc[(data_for_pics['Class'] == 0),'V'],data_for_pics.loc[(data_for_pics['Class'] == 0),'Y'],color=\"black\", label=\"Нет мины\")\n",
    "plt.scatter(data_for_pics.loc[(data_for_pics['Class'] == 1),'V'],data_for_pics.loc[(data_for_pics['Class'] == 1),'Y'],color=\"red\", alpha=0.5, label=\"Есть мина\")\n",
    "plt.plot( data_for_pics[\"V\"], data_for_pics['predicted_rule'], label=\"Решающее правило\")\n",
    "plt.legend()\n",
    "plt.ylim(-0.2,1.1)\n",
    "plt.show()"
   ]
  },
  {
   "cell_type": "code",
   "execution_count": 24,
   "metadata": {},
   "outputs": [],
   "source": [
    "import sympy"
   ]
  },
  {
   "cell_type": "code",
   "execution_count": 43,
   "metadata": {},
   "outputs": [
    {
     "data": {
      "text/latex": [
       "$\\displaystyle -1.76243109283859 + \\frac{0.731727}{\\sin{\\left(x_{0} \\right)}}$"
      ],
      "text/plain": [
       "-1.76243109283859 + 0.731727/sin(x_0)"
      ]
     },
     "execution_count": 43,
     "metadata": {},
     "output_type": "execute_result"
    }
   ],
   "source": [
    "expr = model.best_individ_of_generation[0][0].head.get_formula()\n",
    "expr = sympy.sympify(expr)\n",
    "expr"
   ]
  },
  {
   "cell_type": "code",
   "execution_count": 12,
   "metadata": {},
   "outputs": [
    {
     "name": "stderr",
     "output_type": "stream",
     "text": [
      "100%|██████████| 40/40 [01:13<00:00,  1.84s/it]\n"
     ]
    },
    {
     "name": "stdout",
     "output_type": "stream",
     "text": [
      "Значение фитнесса: 0.8877721943048577\n"
     ]
    },
    {
     "data": {
      "image/png": "[encoded data removed]",
      "text/plain": [
       "<Figure size 640x480 with 1 Axes>"
      ]
     },
     "metadata": {},
     "output_type": "display_data"
    },
    {
     "name": "stdout",
     "output_type": "stream",
     "text": [
      "Достигнутая точность: 0.8017751479289941\n",
      "Done!\n"
     ]
    }
   ],
   "source": [
    "model = gp_population(X_train, y_train, true_class, 2, generations_count=40, mutation_probability=0.5, selection_type='tournament',depth=8, tournament_size = 10)\n",
    "model.fit()\n",
    "model.best_individ_of_generation[0][0].draw_tree()\n",
    "\n",
    "rule = model.final_rule\n",
    "if len(rule) == 1:\n",
    "    rule = np.ones(len(X_train)) * rule\n",
    "\n",
    "data['predicted_class'] = model.final_labels\n",
    "data['predicted_rule'] = rule\n",
    "\n",
    "\n",
    "\n",
    "plt.plot(model.history[:,0], label='Лучший')\n",
    "plt.plot(model.history[:,1], label='Худший')\n",
    "plt.legend()\n",
    "plt.show()\n",
    "\n",
    "\n",
    "print(f\"Достигнутая точность: {accuracy_score(model.final_labels, true_class)}\")\n",
    "print('Done!')"
   ]
  },
  {
   "cell_type": "code",
   "execution_count": 13,
   "metadata": {},
   "outputs": [
    {
     "data": {
      "image/png": "[encoded data removed]",
      "text/plain": [
       "<Figure size 640x480 with 1 Axes>"
      ]
     },
     "metadata": {},
     "output_type": "display_data"
    }
   ],
   "source": [
    "data_for_pics = data.sort_values(by=['V'])\n",
    "plt.title(\"Построение решающего правила\")\n",
    "plt.grid()\n",
    "plt.scatter(data_for_pics.loc[(data_for_pics['Class'] == 0),'V'],data_for_pics.loc[(data_for_pics['Class'] == 0),'Y'],color=\"black\", label=\"Нет мины\")\n",
    "plt.scatter(data_for_pics.loc[(data_for_pics['Class'] == 1),'V'],data_for_pics.loc[(data_for_pics['Class'] == 1),'Y'],color=\"red\", alpha=0.5, label=\"Есть мина\")\n",
    "plt.plot( data_for_pics[\"V\"], data_for_pics['predicted_rule'], label=\"Решающее правило\")\n",
    "plt.legend()\n",
    "plt.ylim(-0.2,1.1)\n",
    "plt.show()"
   ]
  }
 ],
 "metadata": {
  "kernelspec": {
   "display_name": "Python 3",
   "language": "python",
   "name": "python3"
  },
  "language_info": {
   "codemirror_mode": {
    "name": "ipython",
    "version": 3
   },
   "file_extension": ".py",
   "mimetype": "text/x-python",
   "name": "python",
   "nbconvert_exporter": "python",
   "pygments_lexer": "ipython3",
   "version": "3.11.0"
  }
 },
 "nbformat": 4,
 "nbformat_minor": 2
}
